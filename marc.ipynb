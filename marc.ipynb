{
 "cells": [
  {
   "cell_type": "markdown",
   "metadata": {},
   "source": [
    "This program creates library format files .mrc for uploading to electronic library. \n",
    "Input data of standarts are in Excel file.\n",
    "Created for Krylov State Research Centre by Mikhachev Evgeny"
   ]
  },
  {
   "cell_type": "code",
   "execution_count": 152,
   "metadata": {},
   "outputs": [],
   "source": [
    "import xlrd, xlwt\n",
    "import datetime\n",
    "from pymarc import MARCReader\n",
    "from pymarc import Record, Field"
   ]
  },
  {
   "cell_type": "code",
   "execution_count": 67,
   "metadata": {},
   "outputs": [],
   "source": [
    "rb = xlrd.open_workbook('base.xls',formatting_info=True)\n",
    "sheet = rb.sheet_by_index(0)"
   ]
  },
  {
   "cell_type": "code",
   "execution_count": 155,
   "metadata": {},
   "outputs": [
    {
     "name": "stdout",
     "output_type": "stream",
     "text": [
      "5259\n"
     ]
    }
   ],
   "source": [
    "val = sheet.row_values(0)[0]\n",
    "vals = [sheet.row_values(rownum) for rownum in range(sheet.nrows)]\n",
    "print(len(vals))"
   ]
  },
  {
   "cell_type": "code",
   "execution_count": 7,
   "metadata": {},
   "outputs": [
    {
     "data": {
      "text/plain": [
       "'2003-07-01'"
      ]
     },
     "execution_count": 7,
     "metadata": {},
     "output_type": "execute_result"
    }
   ],
   "source": [
    "def serial_date_to_string(srl_no):\n",
    "    new_date = datetime.datetime(1900,1,1,0,0) + datetime.timedelta(srl_no-2)\n",
    "    return new_date.strftime(\"%Y-%m-%d\")\n",
    "date_of_input = datetime.datetime.fromtimestamp(int(vals[1][4]))\n",
    "\n",
    "serial_date_to_string(vals[1][4])\n",
    "#01.07.03\n"
   ]
  },
  {
   "cell_type": "code",
   "execution_count": 203,
   "metadata": {},
   "outputs": [
    {
     "name": "stdout",
     "output_type": "stream",
     "text": [
      "=LDR  00621nam a22001693i 450 \n",
      "=001  ru\\ksrc\\gost\\241302\n",
      "=005  20191105110718.0\n",
      "=029  10$aRU$b5632-2014$cГОСТ\n",
      "=100  \\\\$a20191106h        k  y0rusy01020304ca\n",
      "=101  0\\$arus\n",
      "=102  \\\\$aRU\n",
      "=105  \\\\$ay   l   000zy\n",
      "=200  1\\$aГОСТ 5632-2014. Нержавеющие стали и сплавы коррозионно-стойкие, жаростойкие и жаропрочные марки$eвведен 01.01.1979\n",
      "=300  \\\\$aИзм. №1 (ИУС 1-2019)\n",
      "=801  \\1$aRU$bKSRC$c20191105\n",
      "=998  \\\\$aГО56Не0000000000\n",
      "=999  \\\\$aКГНЦ$bКГНЦ$e$p$u0$v1\n",
      "\n",
      "=200  1\\$aГОСТ 5632-2014. Нержавеющие стали и сплавы коррозионно-стойкие, жаростойкие и жаропрочные марки$eвведен 01.01.1979\n",
      "None\n"
     ]
    }
   ],
   "source": [
    "with open('smeci2.mrc', 'rb') as fh:\n",
    "    reader = MARCReader(fh)\n",
    "    for record in reader:\n",
    "        print(record)\n",
    "        for f in record.get_fields('200'):\n",
    "            print(f)\n",
    "    "
   ]
  },
  {
   "cell_type": "code",
   "execution_count": 202,
   "metadata": {},
   "outputs": [],
   "source": [
    "for i in range(len(vals)):\n",
    "    with open('smeci2.mrc', 'rb') as fh:  # smeci2.mrc is a template for changing some fields\n",
    "        reader = MARCReader(fh)\n",
    "        record = next(reader)\n",
    "        # field001 id is generated after upload, so we can remove it.\n",
    "        for f in record.get_fields('001'):\n",
    "            print(f , ' ')\n",
    "            record.remove_field(f)\n",
    "        #record['001'] = 'ru\\\\ksrc\\\\gost\\\\241303'\n",
    "        #record['005'] = '20191106110718.0'\n",
    "        gost_num = vals[i][3][5:]\n",
    "        record['029']['b'] = gost_num\n",
    "        record['200']['a'] = vals[i][3]+'. '+vals[i][8]\n",
    "        if vals[i][5] =='2002-09-01':\n",
    "            record['200']['e'] = ''\n",
    "        else:\n",
    "            record['200']['e'] = 'введен ' + serial_date_to_string(vals[2][4]).replace('-', '.')\n",
    "        if not vals[i][5]:\n",
    "            record['200'].add_subfield('e', '')\n",
    "        else:\n",
    "            record['200'].add_subfield('e', 'взамен ' +vals[i][5])\n",
    "        #record['200']['e'] = 'взамен ' +vals[i][7]\n",
    "        if not vals[i][7]:\n",
    "            record['300']['a'] =''\n",
    "        else:\n",
    "            record['300']['a'] = vals[i][7]\n",
    "        \n",
    "\n",
    "        \n",
    "    with open(f'gost{i}.mrc', 'wb') as out:\n",
    "        out.write(record.as_marc())\n",
    "    '''\n",
    "    with open(f'gost{i}.mrc', 'r+', encoding=\"utf-8\") as file_in:\n",
    "        text = file_in.read()\n",
    "        text = text.replace(f'\"ru\\ksrc\\gost\\\"{241302}', f'\"ru\\ksrc\\gost\\\"{241307+i}')   \n",
    "\n",
    "    with open(f'gost{i}.mrc', \"w\", encoding=\"utf-8\") as file_out:\n",
    "        file_out.write(text)\n",
    "    '''"
   ]
  },
  {
   "cell_type": "code",
   "execution_count": null,
   "metadata": {},
   "outputs": [],
   "source": []
  },
  {
   "cell_type": "code",
   "execution_count": null,
   "metadata": {},
   "outputs": [],
   "source": []
  }
 ],
 "metadata": {
  "kernelspec": {
   "display_name": "Python 3",
   "language": "python",
   "name": "python3"
  },
  "language_info": {
   "codemirror_mode": {
    "name": "ipython",
    "version": 3
   },
   "file_extension": ".py",
   "mimetype": "text/x-python",
   "name": "python",
   "nbconvert_exporter": "python",
   "pygments_lexer": "ipython3",
   "version": "3.7.1"
  }
 },
 "nbformat": 4,
 "nbformat_minor": 2
}
